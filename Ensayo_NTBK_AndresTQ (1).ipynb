{
  "nbformat": 4,
  "nbformat_minor": 2,
  "metadata": {
    "kernelspec": {
      "name": "synapse_pyspark",
      "display_name": "Synapse PySpark"
    },
    "language_info": {
      "name": "python"
    },
    "save_output": true,
    "synapse_widget": {
      "version": "0.1",
      "state": {}
    }
  },
  "cells": [
    {
      "cell_type": "markdown",
      "metadata": {
        "nteract": {
          "transient": {
            "deleting": false
          }
        }
      },
      "source": [
        "# Ejercicio usando PySpark"
      ]
    },
    {
      "cell_type": "markdown",
      "metadata": {
        "nteract": {
          "transient": {
            "deleting": false
          }
        }
      },
      "source": [
        "## Importar librerías"
      ]
    },
    {
      "cell_type": "code",
      "execution_count": 1,
      "outputs": [],
      "metadata": {},
      "source": [
        "import pandas as pd\r\n",
        "import numpy as np\r\n",
        "import seaborn as sns\r\n",
        "import matplotlib.pyplot as plt\r\n",
        "import random\r\n",
        "from sklearn.model_selection import train_test_split\r\n",
        "from sklearn.preprocessing import StandardScaler\r\n",
        "from sklearn.cluster import KMeans\r\n",
        "from sklearn.experimental import enable_iterative_imputer\r\n",
        "from sklearn.impute import IterativeImputer\r\n",
        "from sklearn.metrics import plot_confusion_matrix\r\n",
        "from sklearn import metrics, model_selection, naive_bayes \r\n",
        "from sklearn.metrics import confusion_matrix, classification_report\r\n",
        "from sklearn.linear_model import LogisticRegression\r\n",
        "from sklearn.ensemble import RandomForestClassifier\r\n",
        "from collections import Counter, defaultdict"
      ]
    },
    {
      "cell_type": "markdown",
      "metadata": {
        "nteract": {
          "transient": {
            "deleting": false
          }
        }
      },
      "source": [
        "## Carga y exploración inicial de base de datos"
      ]
    },
    {
      "cell_type": "code",
      "execution_count": 2,
      "outputs": [],
      "metadata": {
        "jupyter": {
          "source_hidden": false,
          "outputs_hidden": false
        },
        "nteract": {
          "transient": {
            "deleting": false
          }
        },
        "collapsed": false
      },
      "source": [
        "# Cargar bases de datos\r\n",
        "df = spark.read.load('abfss://entrenamiento@datalakecomfama.dfs.core.windows.net/AndresTQ/pokemon.csv', \r\n",
        "format='csv', header=True)"
      ]
    },
    {
      "cell_type": "code",
      "execution_count": 3,
      "outputs": [],
      "metadata": {
        "jupyter": {
          "source_hidden": false,
          "outputs_hidden": false
        },
        "nteract": {
          "transient": {
            "deleting": false
          }
        },
        "collapsed": false
      },
      "source": [
        "# Revisamos los primeros registros\r\n",
        "# df.head() # Forma en python, pero no se ve bien\r\n",
        "display(df.limit(10))"
      ]
    },
    {
      "cell_type": "code",
      "execution_count": 4,
      "outputs": [],
      "metadata": {
        "jupyter": {
          "source_hidden": false,
          "outputs_hidden": false
        },
        "nteract": {
          "transient": {
            "deleting": false
          }
        },
        "collapsed": true
      },
      "source": [
        "# Revisamos el tamaño de nuestra base de datos\r\n",
        "print(df.count(),len(df.columns))"
      ]
    },
    {
      "cell_type": "code",
      "execution_count": 6,
      "outputs": [],
      "metadata": {
        "jupyter": {
          "source_hidden": false,
          "outputs_hidden": false
        },
        "nteract": {
          "transient": {
            "deleting": false
          }
        },
        "collapsed": true
      },
      "source": [
        "# Validamos que las funciones normales de pandas no funcionan acá\r\n",
        "df.shape"
      ]
    },
    {
      "cell_type": "code",
      "execution_count": 5,
      "outputs": [],
      "metadata": {
        "jupyter": {
          "source_hidden": false,
          "outputs_hidden": false
        },
        "nteract": {
          "transient": {
            "deleting": false
          }
        },
        "collapsed": true
      },
      "source": [
        "# Revisamos el listado de variables \r\n",
        "df.columns"
      ]
    },
    {
      "cell_type": "code",
      "execution_count": 6,
      "outputs": [],
      "metadata": {
        "jupyter": {
          "source_hidden": false,
          "outputs_hidden": false
        },
        "nteract": {
          "transient": {
            "deleting": false
          }
        },
        "collapsed": true
      },
      "source": [
        "# Recortamos el nombre de las variables 'against' para reducir espacios en encabezados\r\n",
        "df = df.replace(\"against\", \"ag\")"
      ]
    },
    {
      "cell_type": "code",
      "execution_count": 7,
      "outputs": [],
      "metadata": {
        "jupyter": {
          "source_hidden": false,
          "outputs_hidden": false
        },
        "nteract": {
          "transient": {
            "deleting": false
          }
        },
        "collapsed": false
      },
      "source": [
        "# Revisamos el cambio\r\n",
        "display(df.limit(10)) "
      ]
    },
    {
      "cell_type": "markdown",
      "metadata": {
        "nteract": {
          "transient": {
            "deleting": false
          }
        }
      },
      "source": [
        "# Ejercicio usando Python\r\n",
        "## Pasando la base de datos a pandas"
      ]
    },
    {
      "cell_type": "code",
      "execution_count": 8,
      "outputs": [],
      "metadata": {
        "jupyter": {
          "source_hidden": false,
          "outputs_hidden": false
        },
        "nteract": {
          "transient": {
            "deleting": false
          }
        },
        "collapsed": true
      },
      "source": [
        "# Convertir archivo spark a pandas\r\n",
        "datos = df.toPandas()"
      ]
    },
    {
      "cell_type": "markdown",
      "metadata": {
        "nteract": {
          "transient": {
            "deleting": false
          }
        }
      },
      "source": [
        "## Exploración inicial de los datos"
      ]
    },
    {
      "cell_type": "code",
      "execution_count": 9,
      "outputs": [],
      "metadata": {
        "jupyter": {
          "source_hidden": false,
          "outputs_hidden": false
        },
        "nteract": {
          "transient": {
            "deleting": false
          }
        },
        "collapsed": true
      },
      "source": [
        "# Revisamos el nuevo tamaño de nuestros datos. Validamos que ya si ejecutan las funciones de pandas\r\n",
        "datos.shape"
      ]
    },
    {
      "cell_type": "markdown",
      "metadata": {
        "nteract": {
          "transient": {
            "deleting": false
          }
        }
      },
      "source": [
        "\r\n",
        "\r\n",
        "Esta es una base de datos que cuenta con 801 registros y 41 columnas/variables, donde cada registro hace alusión a un pokemon en particular, y las variables son las características asociadas a cada uno de ellos."
      ]
    },
    {
      "cell_type": "code",
      "execution_count": 10,
      "outputs": [],
      "metadata": {
        "jupyter": {
          "source_hidden": false,
          "outputs_hidden": false
        },
        "nteract": {
          "transient": {
            "deleting": false
          }
        },
        "collapsed": true
      },
      "source": [
        "# Codigo para que se desplieguen todas las columnas del dataframe\r\n",
        "pd.set_option('display.max_columns', None)\r\n",
        "# Revisamos los primeros registros\r\n",
        "datos.head()"
      ]
    },
    {
      "cell_type": "code",
      "execution_count": 11,
      "outputs": [],
      "metadata": {
        "jupyter": {
          "source_hidden": false,
          "outputs_hidden": false
        },
        "nteract": {
          "transient": {
            "deleting": false
          }
        },
        "collapsed": true
      },
      "source": [
        "# Revisamos las variables\r\n",
        "list(datos.columns.values)"
      ]
    },
    {
      "cell_type": "markdown",
      "metadata": {
        "nteract": {
          "transient": {
            "deleting": false
          }
        }
      },
      "source": [
        "Como se había mencionado, las variables de este dataset hacen referencia a las características de cada uno de los pokemon, como su tipo (planta, fuego, eléctrico, etc), habilidades (velocidad, defensa, ataque, etc) y resistencias contra otros tipos. Así mismo se indica el nombre del pokemon, si es legendario o no, su número en la pokedex y la generación a la que pertenece"
      ]
    },
    {
      "cell_type": "markdown",
      "metadata": {
        "nteract": {
          "transient": {
            "deleting": false
          }
        }
      },
      "source": [
        "## Actividad\r\n",
        "\r\n",
        "La variable a predecir será el tipo 1 (type1). Haremos un ejercicio tanto de aprendizaje supervisado como no supervisado.\r\n",
        "\r\n",
        "Para este ejercicio haremos uso de las variables de habilidades (ataque, defensa, velocidad, etc.) y resistencias contra otros tipos. Descartaremos la generación, número en pokedex, si es legendario o no, la segunda tipología (type2)."
      ]
    },
    {
      "cell_type": "markdown",
      "metadata": {
        "nteract": {
          "transient": {
            "deleting": false
          }
        }
      },
      "source": [
        "## Ajuste previo en la tipología de los datos"
      ]
    },
    {
      "cell_type": "code",
      "execution_count": 12,
      "outputs": [],
      "metadata": {
        "jupyter": {
          "source_hidden": false,
          "outputs_hidden": false
        },
        "nteract": {
          "transient": {
            "deleting": false
          }
        },
        "collapsed": true
      },
      "source": [
        "# Revisamos la tipología de los datos\r\n",
        "datos.dtypes"
      ]
    },
    {
      "cell_type": "code",
      "execution_count": 13,
      "outputs": [],
      "metadata": {
        "jupyter": {
          "source_hidden": false,
          "outputs_hidden": false
        },
        "nteract": {
          "transient": {
            "deleting": false
          }
        },
        "collapsed": true
      },
      "source": [
        "# Convertimos a numéricas nuestras variables\r\n",
        "cols = datos.columns.drop('type1')\r\n",
        "datos[cols] = datos[cols].apply(pd.to_numeric, errors='coerce')"
      ]
    },
    {
      "cell_type": "code",
      "execution_count": 14,
      "outputs": [],
      "metadata": {
        "jupyter": {
          "source_hidden": false,
          "outputs_hidden": false
        },
        "nteract": {
          "transient": {
            "deleting": false
          }
        },
        "collapsed": true
      },
      "source": [
        "# Revisamos nuevamente la tipología para valdiar el ajuste\r\n",
        "datos.dtypes"
      ]
    },
    {
      "cell_type": "markdown",
      "metadata": {
        "nteract": {
          "transient": {
            "deleting": false
          }
        }
      },
      "source": [
        "## Preparación y limpieza de datos"
      ]
    },
    {
      "cell_type": "code",
      "execution_count": 15,
      "outputs": [],
      "metadata": {
        "jupyter": {
          "source_hidden": false,
          "outputs_hidden": false
        },
        "nteract": {
          "transient": {
            "deleting": false
          }
        },
        "collapsed": true
      },
      "source": [
        "# Recortamos el nombre de las variables 'against' para reducir espacios en encabezados\r\n",
        "datos.columns = datos.columns.str.replace(\"against\", \"ag\")"
      ]
    },
    {
      "cell_type": "markdown",
      "metadata": {
        "nteract": {
          "transient": {
            "deleting": false
          }
        }
      },
      "source": [
        "### Selección de variables"
      ]
    },
    {
      "cell_type": "code",
      "execution_count": 16,
      "outputs": [],
      "metadata": {
        "jupyter": {
          "source_hidden": false,
          "outputs_hidden": false
        },
        "nteract": {
          "transient": {
            "deleting": false
          }
        },
        "collapsed": true
      },
      "source": [
        "# Vamos a elegir variables que usaremos para nuestro ejercicio \r\n",
        "datos_modelo = datos.loc[:, ['ag_bug', 'ag_dark', 'ag_dragon', 'ag_electric', 'ag_fairy', 'ag_fight', 'ag_fire', \r\n",
        "                             'ag_flying', 'ag_ghost', 'ag_grass', 'ag_ground', 'ag_ice', 'ag_normal', 'ag_poison', \r\n",
        "                             'ag_psychic', 'ag_rock', 'ag_steel', 'ag_water', 'attack', 'defense', 'height_m', \r\n",
        "                             'hp', 'sp_attack', 'sp_defense', 'speed', 'weight_kg', 'type1']]"
      ]
    },
    {
      "cell_type": "markdown",
      "metadata": {
        "nteract": {
          "transient": {
            "deleting": false
          }
        }
      },
      "source": [
        "### Valores faltantes"
      ]
    },
    {
      "cell_type": "code",
      "execution_count": 17,
      "outputs": [],
      "metadata": {
        "jupyter": {
          "source_hidden": false,
          "outputs_hidden": false
        },
        "nteract": {
          "transient": {
            "deleting": false
          }
        },
        "collapsed": true
      },
      "source": [
        "# Revisamos la cantidad de NA en cada variable\r\n",
        "datos_modelo.isna().sum()"
      ]
    },
    {
      "cell_type": "markdown",
      "metadata": {
        "nteract": {
          "transient": {
            "deleting": false
          }
        }
      },
      "source": [
        "\r\n",
        "Tenemos 20 registros con NA en el peso y 20 registros con NA en la altura. Alternativas:\r\n",
        "\r\n",
        "* Eliminar\r\n",
        "* Imputar\r\n",
        "\r\n",
        "En este caso, pensar en eliminar podría ser contraproducente dado que tenemos muy pocos registros para entrenar el modelo. Por esta razón procedremos a imputar nuestros datos. El método a utilizar será la imputación de características multivariadas, la cual imputa una variable como una función de las otras variables. Este estimador todavía está en proceso experimental, y pertenece a la librería de scikit learn."
      ]
    },
    {
      "cell_type": "code",
      "execution_count": 18,
      "outputs": [],
      "metadata": {
        "jupyter": {
          "source_hidden": false,
          "outputs_hidden": false
        },
        "nteract": {
          "transient": {
            "deleting": false
          }
        },
        "collapsed": true
      },
      "source": [
        "# Creamos objeto para almacenar modelo de imputación\r\n",
        "imp = IterativeImputer(max_iter=10, random_state=0)\r\n",
        "# Entrenamos el modelo de imputación con los datos de nuestro dataset\r\n",
        "imp.fit(datos_modelo.iloc[:,0:-1])"
      ]
    },
    {
      "cell_type": "code",
      "execution_count": 19,
      "outputs": [],
      "metadata": {
        "jupyter": {
          "source_hidden": false,
          "outputs_hidden": false
        },
        "nteract": {
          "transient": {
            "deleting": false
          }
        },
        "collapsed": true
      },
      "source": [
        "# Aplicamos el modelo de imputación en nuestros datos\r\n",
        "datos_modelo.iloc[:,0:-1] = imp.transform(datos_modelo.iloc[:,0:-1])"
      ]
    },
    {
      "cell_type": "code",
      "execution_count": 20,
      "outputs": [],
      "metadata": {
        "jupyter": {
          "source_hidden": false,
          "outputs_hidden": false
        },
        "nteract": {
          "transient": {
            "deleting": false
          }
        },
        "collapsed": true
      },
      "source": [
        "# Revisamos que ya no tengamos presencia de valores faltantes\r\n",
        "datos_modelo.isna().sum()"
      ]
    },
    {
      "cell_type": "code",
      "execution_count": 21,
      "outputs": [],
      "metadata": {
        "jupyter": {
          "source_hidden": false,
          "outputs_hidden": false
        },
        "nteract": {
          "transient": {
            "deleting": false
          }
        },
        "collapsed": true
      },
      "source": [
        "# Validamos que no se hayan eliminado registros\r\n",
        "datos_modelo.shape"
      ]
    },
    {
      "cell_type": "markdown",
      "metadata": {
        "nteract": {
          "transient": {
            "deleting": false
          }
        }
      },
      "source": [
        "## Análisis exploratorio"
      ]
    },
    {
      "cell_type": "markdown",
      "metadata": {
        "nteract": {
          "transient": {
            "deleting": false
          }
        }
      },
      "source": [
        "### Estadísticos generales"
      ]
    },
    {
      "cell_type": "code",
      "execution_count": 22,
      "outputs": [],
      "metadata": {
        "jupyter": {
          "source_hidden": false,
          "outputs_hidden": false
        },
        "nteract": {
          "transient": {
            "deleting": false
          }
        },
        "collapsed": true
      },
      "source": [
        "# Estadísticos de nuestras variables\r\n",
        "datos_modelo.describe()"
      ]
    },
    {
      "cell_type": "markdown",
      "metadata": {
        "nteract": {
          "transient": {
            "deleting": false
          }
        }
      },
      "source": [
        "De estos descriptivos resaltan dos grupos:\r\n",
        "\r\n",
        "* Las variables de resistencia que, en su gran mayoría, están entre 0/0.25 y 4, sirviendo como escalafón para indicar qué tanto daño reciben de los otros tipos de pokemon, siendo 0 inmunidad y 4 es que recibe el daño multiplicado por 4.\r\n",
        "* Las demás variables registran unos rangos más amplios y diversos (amerita estandarizar los datos más adelante). En promedio, un pokemon tendría las siguientes características:\r\n",
        "    * Peso de 61 kg\r\n",
        "    * Altura de 1.16 metros\r\n",
        "    * 68 puntos de vida\r\n",
        "    * Ataque de 77 puntos, defensa de 73 y velocidad de 66.\r\n",
        "\r\n",
        "Llama la atención el mínimo en el peso puesto que es negativo, lo cual no tendría sentido desde la lógica de la variable en sí. Valdría la pena analizarlo para determinar si se debe eliminar o no, pero no lo haremos en este caso."
      ]
    },
    {
      "cell_type": "markdown",
      "metadata": {
        "nteract": {
          "transient": {
            "deleting": false
          }
        }
      },
      "source": [
        "### Registros por tipología"
      ]
    },
    {
      "cell_type": "code",
      "execution_count": 23,
      "outputs": [],
      "metadata": {
        "jupyter": {
          "source_hidden": false,
          "outputs_hidden": false
        },
        "nteract": {
          "transient": {
            "deleting": false
          }
        },
        "collapsed": true
      },
      "source": [
        "# Revisamos la cantidad de pokemones que hay por tipo\r\n",
        "sns.countplot(x = \"type1\", data = datos_modelo, order = datos_modelo['type1'].value_counts().index)\r\n",
        "plt.xticks(rotation = 45)\r\n",
        "plt.xlabel(\"Tipo\")\r\n",
        "plt.ylabel(\"Cantidad\")\r\n",
        "plt.title(\"Cantidad de pokemon por Tipo\")\r\n",
        "plt.show()\r\n",
        "#datos.loc[:,'type1'].value_counts()"
      ]
    },
    {
      "cell_type": "markdown",
      "metadata": {
        "nteract": {
          "transient": {
            "deleting": false
          }
        }
      },
      "source": [
        "Se observa que la mayoría de pokemones son de tipo agua, seguidos de los normales y planta. El top 5 lo cierran los tipo insecto y psíquico."
      ]
    },
    {
      "cell_type": "markdown",
      "metadata": {
        "nteract": {
          "transient": {
            "deleting": false
          }
        }
      },
      "source": [
        "### Características promedio por tipología"
      ]
    },
    {
      "cell_type": "code",
      "execution_count": 24,
      "outputs": [],
      "metadata": {
        "jupyter": {
          "source_hidden": false,
          "outputs_hidden": false
        },
        "nteract": {
          "transient": {
            "deleting": false
          }
        },
        "collapsed": true
      },
      "source": [
        "# Revisamos por tipologpia el promedio de cada una de las variables\r\n",
        "datos_modelo.groupby('type1').aggregate({'speed': 'mean',\r\n",
        "                                         'attack': 'mean',\r\n",
        "                                         'defense': 'mean',\r\n",
        "                                         'sp_attack': 'mean', \r\n",
        "                                         'sp_defense': 'mean',\r\n",
        "                                         'hp': 'mean', \r\n",
        "                                         'height_m': 'mean',\r\n",
        "                                         'weight_kg': 'mean', \r\n",
        "                                         'sp_defense': 'mean',\r\n",
        "                                         'ag_bug': 'mean', \r\n",
        "                                         'ag_dark': 'mean',\r\n",
        "                                         'ag_dragon': 'mean', \r\n",
        "                                         'ag_electric': 'mean', \r\n",
        "                                         'ag_fairy': 'mean',\r\n",
        "                                         'ag_fight': 'mean', \r\n",
        "                                         'ag_fire': 'mean', \r\n",
        "                                         'ag_flying': 'mean',\r\n",
        "                                         'ag_ghost': 'mean', \r\n",
        "                                         'ag_grass': 'mean', \r\n",
        "                                         'ag_ground': 'mean',\r\n",
        "                                         'ag_ice': 'mean', \r\n",
        "                                         'ag_normal': 'mean', \r\n",
        "                                         'ag_poison': 'mean',\r\n",
        "                                         'ag_psychic': 'mean', \r\n",
        "                                         'ag_rock': 'mean', \r\n",
        "                                         'ag_steel': 'mean',\r\n",
        "                                         'ag_water': 'mean'}).reset_index().round(2)"
      ]
    },
    {
      "cell_type": "markdown",
      "metadata": {
        "nteract": {
          "transient": {
            "deleting": false
          }
        }
      },
      "source": [
        "Del cuadro anterior se pueden ir haciendo algunas observaciones que darían luces sobre las características que permitirán diferenciar cada tipo de pokemon en los modelos posteriores. Algunos ejemplos de estas diferencias serían los siguientes:\r\n",
        "\r\n",
        "* Las resistencias de cada tipo vs los otros probablemente serán relevantes. Ejemplo, se observa que los tipo agua, roca y arena son menos resistentes contra los tipo planta. Por otro lado, los tipo normal son completamente inmunes contra los fantasmas.\r\n",
        "* Los tipo voladores son de lejos los de mayor velocidad promedio.\r\n",
        "* En cuanto a defensa, los de hierro tienen una gran diferenciación siendo los de mayor valor en promedio."
      ]
    },
    {
      "cell_type": "markdown",
      "metadata": {
        "nteract": {
          "transient": {
            "deleting": false
          }
        }
      },
      "source": [
        "### Gráfico de correlación"
      ]
    },
    {
      "cell_type": "code",
      "execution_count": 25,
      "outputs": [],
      "metadata": {
        "jupyter": {
          "source_hidden": false,
          "outputs_hidden": false
        },
        "nteract": {
          "transient": {
            "deleting": false
          }
        },
        "collapsed": true
      },
      "source": [
        "# Calculamos correlaciones\r\n",
        "grafica_correlacion = datos_modelo.corr()"
      ]
    },
    {
      "cell_type": "code",
      "execution_count": 26,
      "outputs": [],
      "metadata": {
        "jupyter": {
          "source_hidden": false,
          "outputs_hidden": false
        },
        "nteract": {
          "transient": {
            "deleting": false
          }
        },
        "collapsed": true
      },
      "source": [
        "# Graficamos la correlación\r\n",
        "plt.figure(figsize=(22, 12))\r\n",
        "sns.heatmap(grafica_correlacion, annot = True, linewidths = 0.5)\r\n",
        "plt.show()"
      ]
    },
    {
      "cell_type": "markdown",
      "metadata": {
        "nteract": {
          "transient": {
            "deleting": false
          }
        }
      },
      "source": [
        "De este gráfico se confirman algunas de las observaciones hechas previamente:\r\n",
        "\r\n",
        "* Las resistencias vs otros tipos podrán ser relevantes:\r\n",
        "          \r\n",
        "  * Estas suelen tener relaciones relativamente fuertes entre sí, ya sean positivas o negativas. Ejemplo: La correlación entre las resistencias contra los tipo planta y contra los tipo fuego es de -0.46. Esto indicaría que aquellos que son fuertes contra los planta normalmente son débiles contra los fuego, o viceversa (Ejemplo los de agua). \r\n",
        "  \r\n",
        "* Las características de los pokemon presentan relaciones relativamente fuertes y positivas entre sí. Los de mayor ataque suelen también tener buena defensa. Los de mayor peso y altura suelen tener más puntos de vida. "
      ]
    },
    {
      "cell_type": "markdown",
      "metadata": {
        "nteract": {
          "transient": {
            "deleting": false
          }
        }
      },
      "source": [
        "## Preparación de los datos. Entrenamiento y testeo."
      ]
    },
    {
      "cell_type": "markdown",
      "metadata": {
        "nteract": {
          "transient": {
            "deleting": false
          }
        }
      },
      "source": [
        "#### Separamos las variables explicativas (de insumo) de la variable a explicar (objetivo)"
      ]
    },
    {
      "cell_type": "code",
      "execution_count": 27,
      "outputs": [],
      "metadata": {
        "jupyter": {
          "source_hidden": false,
          "outputs_hidden": false
        },
        "nteract": {
          "transient": {
            "deleting": false
          }
        },
        "collapsed": true
      },
      "source": [
        "# Separamos los variables explicativas de la variable objetivo\r\n",
        "X = datos_modelo.iloc[:,0:-1]\r\n",
        "y = datos_modelo.iloc[:,-1]"
      ]
    },
    {
      "cell_type": "code",
      "execution_count": 28,
      "outputs": [],
      "metadata": {
        "jupyter": {
          "source_hidden": false,
          "outputs_hidden": false
        },
        "nteract": {
          "transient": {
            "deleting": false
          }
        },
        "collapsed": true
      },
      "source": [
        "# Plantamos semilla para garantizar reproducibilidad\r\n",
        "np.random.seed(110)\r\n",
        "# Dividimos la base con una proporción 80 % - 20 %\r\n",
        "X_train, X_test, y_train, y_test = train_test_split(X, y, test_size=0.2)"
      ]
    },
    {
      "cell_type": "markdown",
      "metadata": {
        "nteract": {
          "transient": {
            "deleting": false
          }
        }
      },
      "source": [
        "#### Revisamos los tamaños de nuestras nuevas bases"
      ]
    },
    {
      "cell_type": "code",
      "execution_count": 29,
      "outputs": [],
      "metadata": {
        "jupyter": {
          "source_hidden": false,
          "outputs_hidden": false
        },
        "nteract": {
          "transient": {
            "deleting": false
          }
        },
        "collapsed": true
      },
      "source": [
        "# Base de entrenamiento\r\n",
        "print('El tamaño de nuestra base de entrenamiento de las variables insumo es:')\r\n",
        "X_train.shape"
      ]
    },
    {
      "cell_type": "code",
      "execution_count": 30,
      "outputs": [],
      "metadata": {
        "jupyter": {
          "source_hidden": false,
          "outputs_hidden": false
        },
        "nteract": {
          "transient": {
            "deleting": false
          }
        },
        "collapsed": true
      },
      "source": [
        "# Base de testeo\r\n",
        "print('El tamaño de nuestra base de testeo de las variables insumo es:')\r\n",
        "X_test.shape"
      ]
    },
    {
      "cell_type": "markdown",
      "metadata": {
        "nteract": {
          "transient": {
            "deleting": false
          }
        }
      },
      "source": [
        "#### Validamos que se sigan conservando las proporciones de muestras"
      ]
    },
    {
      "cell_type": "code",
      "execution_count": 31,
      "outputs": [],
      "metadata": {
        "jupyter": {
          "source_hidden": false,
          "outputs_hidden": false
        },
        "nteract": {
          "transient": {
            "deleting": false
          }
        },
        "collapsed": true
      },
      "source": [
        "# Revisamos la cantidad de pokemones que hay por tipo\r\n",
        "sns.countplot(x = \"type1\",data = pd.DataFrame(y_train), order = pd.DataFrame(y_train)['type1'].value_counts().index)\r\n",
        "plt.xticks(rotation = 45)\r\n",
        "plt.xlabel(\"Tipo\")\r\n",
        "plt.ylabel(\"Cantidad\")\r\n",
        "plt.title(\"Cantidad de pokemon por Tipo\")\r\n",
        "plt.show()"
      ]
    },
    {
      "cell_type": "markdown",
      "metadata": {
        "nteract": {
          "transient": {
            "deleting": false
          }
        }
      },
      "source": [
        "Se conservan las proporciones observadas anteriormente, donde los de mayor representatividad siguen siendo los acuáticos, normales, planta, insecto y psíquico respectivamente."
      ]
    },
    {
      "cell_type": "markdown",
      "metadata": {
        "nteract": {
          "transient": {
            "deleting": false
          }
        }
      },
      "source": [
        "#### Estandarización de los datos\r\n",
        "\r\n",
        "En este punto se pretende estandarizar las bases de datos de nuestras variables de insumo. Esta estandarización se realiza a nivel de cada variable, donde se resta el promedio y se divide entre la desviación estándar de la respectiva variable, con lo cual se busca que la distribución de estas sea más o menos similar a la de una distribución normal (media 0, desviación estándar 1)"
      ]
    },
    {
      "cell_type": "code",
      "execution_count": 32,
      "outputs": [],
      "metadata": {
        "jupyter": {
          "source_hidden": false,
          "outputs_hidden": false
        },
        "nteract": {
          "transient": {
            "deleting": false
          }
        },
        "collapsed": true
      },
      "source": [
        "# Procedemos a estandarizar los datos de las variables \"x\". Se estandariza con el conjunto de entrenamiento.\r\n",
        "estandarizacion = StandardScaler()\r\n",
        "estandarizacion.fit(X_train)\r\n",
        "\r\n",
        "# Con los parámetros de estandarización entrenados, se realiza la estandarización los dos conjuntos de datos\r\n",
        "X_train_est = estandarizacion.transform(X_train)\r\n",
        "X_test_est = estandarizacion.transform(X_test)"
      ]
    },
    {
      "cell_type": "markdown",
      "metadata": {
        "nteract": {
          "transient": {
            "deleting": false
          }
        }
      },
      "source": [
        "## Ejercicio aprendizaje supervisado"
      ]
    },
    {
      "cell_type": "markdown",
      "metadata": {
        "nteract": {
          "transient": {
            "deleting": false
          }
        }
      },
      "source": [
        "De acuerdo a lo propuesto en la actividad, plantearemos tres modelos que buscan predecir el tipo de pokemon basado en el resto de variables observadas. Se proponen los siguientes modelos:\r\n",
        "\r\n",
        "* **Naive Bayes** \r\n",
        "* **Regresión Logística**\r\n",
        "* **Random Forest**"
      ]
    },
    {
      "cell_type": "markdown",
      "metadata": {
        "nteract": {
          "transient": {
            "deleting": false
          }
        }
      },
      "source": [
        "### Naive Bayes"
      ]
    },
    {
      "cell_type": "markdown",
      "metadata": {
        "nteract": {
          "transient": {
            "deleting": false
          }
        }
      },
      "source": [
        "#### Entrenamiento del modelo"
      ]
    },
    {
      "cell_type": "code",
      "execution_count": 33,
      "outputs": [],
      "metadata": {
        "jupyter": {
          "source_hidden": false,
          "outputs_hidden": false
        },
        "nteract": {
          "transient": {
            "deleting": false
          }
        },
        "collapsed": true
      },
      "source": [
        "# Especificamos el modelo a usar\r\n",
        "nv = naive_bayes.GaussianNB()\r\n",
        "\r\n",
        "# Entrenamos el modelo\r\n",
        "nv.fit(X_train_est, y_train)"
      ]
    },
    {
      "cell_type": "markdown",
      "metadata": {
        "nteract": {
          "transient": {
            "deleting": false
          }
        }
      },
      "source": [
        "#### Predicción del modelo en los datos de testeo"
      ]
    },
    {
      "cell_type": "code",
      "execution_count": 34,
      "outputs": [],
      "metadata": {
        "jupyter": {
          "source_hidden": false,
          "outputs_hidden": false
        },
        "nteract": {
          "transient": {
            "deleting": false
          }
        },
        "collapsed": true
      },
      "source": [
        "# Hacemos las predicciones sobre el conjunto de testeo\r\n",
        "y_pred_nv = nv.predict(X_test_est)"
      ]
    },
    {
      "cell_type": "markdown",
      "metadata": {
        "nteract": {
          "transient": {
            "deleting": false
          }
        }
      },
      "source": [
        "#### Validación de resultados"
      ]
    },
    {
      "cell_type": "code",
      "execution_count": 35,
      "outputs": [],
      "metadata": {
        "jupyter": {
          "source_hidden": false,
          "outputs_hidden": false
        },
        "nteract": {
          "transient": {
            "deleting": false
          }
        },
        "collapsed": true
      },
      "source": [
        "# Calculamos la precisión del clasificador\r\n",
        "acc_nv = metrics.accuracy_score(y_test, y_pred_nv)\r\n",
        "print (\"Precisión del modelo naive bayes: %.2f \" %(acc_nv*100) )\r\n",
        "\r\n",
        "# Mostramos la cantidad de muestras mal clasificadas \r\n",
        "print('Las muestras mal clasificadas en el modelo naive bayes fueron %d' % (y_test != y_pred_nv).sum())\r\n",
        "\r\n",
        "# Visualizamos reporte con los resultados generales\r\n",
        "print(classification_report(y_test, y_pred_nv))"
      ]
    },
    {
      "cell_type": "markdown",
      "metadata": {
        "nteract": {
          "transient": {
            "deleting": false
          }
        }
      },
      "source": [
        "#### Matriz de confusión"
      ]
    },
    {
      "cell_type": "code",
      "execution_count": 36,
      "outputs": [],
      "metadata": {
        "jupyter": {
          "source_hidden": false,
          "outputs_hidden": false
        },
        "nteract": {
          "transient": {
            "deleting": false
          }
        },
        "collapsed": true
      },
      "source": [
        "# Ajustamos tamaño de la matriz\r\n",
        "fig, ax = plt.subplots(figsize=(14, 12))\r\n",
        "# Construmios el gráfico\r\n",
        "plot_confusion_matrix(nv, X_test_est, y_test, cmap=plt.cm.Blues, ax = ax)  \r\n",
        "# Visualizamos\r\n",
        "plt.show()"
      ]
    },
    {
      "cell_type": "markdown",
      "metadata": {
        "nteract": {
          "transient": {
            "deleting": false
          }
        }
      },
      "source": [
        "### Regresión Logística"
      ]
    },
    {
      "cell_type": "markdown",
      "metadata": {
        "nteract": {
          "transient": {
            "deleting": false
          }
        }
      },
      "source": [
        "#### Entrenamiento del modelo"
      ]
    },
    {
      "cell_type": "code",
      "execution_count": 37,
      "outputs": [],
      "metadata": {
        "jupyter": {
          "source_hidden": false,
          "outputs_hidden": false
        },
        "nteract": {
          "transient": {
            "deleting": false
          }
        },
        "collapsed": true
      },
      "source": [
        "# Especificamos el modelo a usar\r\n",
        "reg_logistica = LogisticRegression(C = 1000, random_state = 0, max_iter = 500)\r\n",
        "\r\n",
        "# Entrenamos el modelo\r\n",
        "reg_logistica.fit(X_train_est, y_train)"
      ]
    },
    {
      "cell_type": "markdown",
      "metadata": {
        "nteract": {
          "transient": {
            "deleting": false
          }
        }
      },
      "source": [
        "#### Predicción del modelo en los datos de testeo"
      ]
    },
    {
      "cell_type": "code",
      "execution_count": 38,
      "outputs": [],
      "metadata": {
        "jupyter": {
          "source_hidden": false,
          "outputs_hidden": false
        },
        "nteract": {
          "transient": {
            "deleting": false
          }
        },
        "collapsed": true
      },
      "source": [
        "# Hacemos las predicciones sobre el conjunto de testeo\r\n",
        "y_pred_reglog = reg_logistica.predict(X_test_est)"
      ]
    },
    {
      "cell_type": "markdown",
      "metadata": {
        "nteract": {
          "transient": {
            "deleting": false
          }
        }
      },
      "source": [
        "#### Validación de resultados"
      ]
    },
    {
      "cell_type": "code",
      "execution_count": 39,
      "outputs": [],
      "metadata": {
        "jupyter": {
          "source_hidden": false,
          "outputs_hidden": false
        },
        "nteract": {
          "transient": {
            "deleting": false
          }
        },
        "collapsed": true
      },
      "source": [
        "# Calculamos la precisión del clasificador\r\n",
        "acc_nv = metrics.accuracy_score(y_test, y_pred_reglog)\r\n",
        "print (\"Precisión del modelo de regresión logística: %.2f \" %(acc_nv*100) )\r\n",
        "\r\n",
        "# Mostramos la cantidad de muestras mal clasificadas \r\n",
        "print('Las muestras mal clasificadas en el modelo de regresión logística fueron %d' % (y_test != y_pred_reglog).sum())\r\n",
        "\r\n",
        "# Visualizamos reporte con los resultados generales\r\n",
        "print(classification_report(y_test, y_pred_reglog))"
      ]
    },
    {
      "cell_type": "markdown",
      "metadata": {
        "nteract": {
          "transient": {
            "deleting": false
          }
        }
      },
      "source": [
        "#### Matriz de confusión"
      ]
    },
    {
      "cell_type": "code",
      "execution_count": 40,
      "outputs": [],
      "metadata": {
        "jupyter": {
          "source_hidden": false,
          "outputs_hidden": false
        },
        "nteract": {
          "transient": {
            "deleting": false
          }
        },
        "collapsed": true
      },
      "source": [
        "# Ajustamos tamaño de la matriz\r\n",
        "fig, ax = plt.subplots(figsize=(14, 12))\r\n",
        "# Construmios el gráfico\r\n",
        "plot_confusion_matrix(reg_logistica, X_test_est, y_test, cmap=plt.cm.Blues, ax = ax)  \r\n",
        "# Visualizamos\r\n",
        "plt.show()"
      ]
    },
    {
      "cell_type": "markdown",
      "metadata": {
        "nteract": {
          "transient": {
            "deleting": false
          }
        }
      },
      "source": [
        "### Random Forest"
      ]
    },
    {
      "cell_type": "markdown",
      "metadata": {
        "nteract": {
          "transient": {
            "deleting": false
          }
        }
      },
      "source": [
        "#### Entrenamiento del modelo"
      ]
    },
    {
      "cell_type": "code",
      "execution_count": 41,
      "outputs": [],
      "metadata": {
        "jupyter": {
          "source_hidden": false,
          "outputs_hidden": false
        },
        "nteract": {
          "transient": {
            "deleting": false
          }
        },
        "collapsed": true
      },
      "source": [
        "# Sembramos semilla\r\n",
        "np.random.seed(100)\r\n",
        "# Especificamos el modelo a usar\r\n",
        "random_forest = RandomForestClassifier(n_estimators=100)\r\n",
        "\r\n",
        "# Entrenamos el modelo\r\n",
        "random_forest.fit(X_train_est, y_train)"
      ]
    },
    {
      "cell_type": "markdown",
      "metadata": {
        "nteract": {
          "transient": {
            "deleting": false
          }
        }
      },
      "source": [
        "#### Predicción del modelo en los datos de testeo"
      ]
    },
    {
      "cell_type": "code",
      "execution_count": 42,
      "outputs": [],
      "metadata": {
        "jupyter": {
          "source_hidden": false,
          "outputs_hidden": false
        },
        "nteract": {
          "transient": {
            "deleting": false
          }
        },
        "collapsed": true
      },
      "source": [
        "# Hacemos las predicciones sobre el conjunto de testeo\r\n",
        "y_pred_rf = random_forest.predict(X_test_est)"
      ]
    },
    {
      "cell_type": "markdown",
      "metadata": {
        "nteract": {
          "transient": {
            "deleting": false
          }
        }
      },
      "source": [
        "#### Validación de resultados"
      ]
    },
    {
      "cell_type": "code",
      "execution_count": 43,
      "outputs": [],
      "metadata": {
        "jupyter": {
          "source_hidden": false,
          "outputs_hidden": false
        },
        "nteract": {
          "transient": {
            "deleting": false
          }
        },
        "collapsed": true
      },
      "source": [
        "# Calculamos la precisión del clasificador\r\n",
        "acc = metrics.accuracy_score(y_test, y_pred_rf)\r\n",
        "print (\"Precisión del modelo random forest: %.2f \" %(acc*100) )\r\n",
        "\r\n",
        "# Mostramos la cantidad de muestras mal clasificadas \r\n",
        "print('Las muestras mal clasificadas fueron %d' % (y_test != y_pred_rf).sum())\r\n",
        "\r\n",
        "# Visualizamos reporte con los resultados generales\r\n",
        "print(classification_report(y_test, y_pred_rf))"
      ]
    },
    {
      "cell_type": "markdown",
      "metadata": {
        "nteract": {
          "transient": {
            "deleting": false
          }
        }
      },
      "source": [
        "#### Matriz de confusión"
      ]
    },
    {
      "cell_type": "code",
      "execution_count": 44,
      "outputs": [],
      "metadata": {
        "jupyter": {
          "source_hidden": false,
          "outputs_hidden": false
        },
        "nteract": {
          "transient": {
            "deleting": false
          }
        },
        "collapsed": true
      },
      "source": [
        "# Ajustamos tamaño de la matriz\r\n",
        "fig, ax = plt.subplots(figsize=(14, 12))\r\n",
        "# Construmios el gráfico\r\n",
        "plot_confusion_matrix(random_forest, X_test_est, y_test, cmap=plt.cm.Blues, ax = ax)  \r\n",
        "# Visualizamos\r\n",
        "plt.show()"
      ]
    },
    {
      "cell_type": "markdown",
      "metadata": {
        "nteract": {
          "transient": {
            "deleting": false
          }
        }
      },
      "source": [
        "### Comparación entre modelos\r\n",
        "\r\n",
        "Al analizar los tres modelos se encuentra que:\r\n",
        "\r\n",
        "* En términos de **accuracy** el mejor modelo es el de **Regresión Logística con un 91.30%**, seguido del **Random Forest con 90.06%**, y el de peor desempeño fue el **Naive Bayes con 64.60%**.\r\n",
        "* En concordancia con lo anterior se tiene que, de los 161 registros en la base de testeo, el modelo de Regresión Logística tuvo una mala clasificación en 14 casos, el Random Forest en 16 y el Naive Bayes en 57.\r\n",
        "* En los tres modelos suele haber algunos errores en el pronóstico de los tipo dragón, hierro, roca y psíquico. Esto medido a través del F1-score. Probablemente sea necesario alguna(s) variable(s) adicional(es) que permitan mejorar el pronóstico para estos.\r\n",
        "\r\n",
        "Por lo anterior, para este ejercicio se decide que el modelo a emplear es el de *Regresión Logística*."
      ]
    },
    {
      "cell_type": "markdown",
      "metadata": {
        "nteract": {
          "transient": {
            "deleting": false
          }
        }
      },
      "source": [
        "#### Notas\r\n",
        "\r\n",
        "* Para este ejercicio no se realizó un ejercicio riguroso de tuning. Esto quiere decir que no se hicieron grandes ajustes a los parámetros de los algoritmos. Tuning es un proceso que se emplea para mejorar el desempeño de cada uno de los modelos.\r\n",
        "* Después de estos resultados el siguiente paso sería desplegar este modelo en un entorno de producción."
      ]
    },
    {
      "cell_type": "markdown",
      "metadata": {
        "nteract": {
          "transient": {
            "deleting": false
          }
        }
      },
      "source": [
        "## Ejercicio con aprendizaje no supervisado"
      ]
    },
    {
      "cell_type": "markdown",
      "metadata": {
        "nteract": {
          "transient": {
            "deleting": false
          }
        }
      },
      "source": [
        "En este caso omitiremos la variable obejtivo ***Y***, y únicamente a partir del conjunto de datos ***X*** intentaremos consturir clusters. En esencia este modelo desconoce la existencia de los tipos de pokemon, por lo cual es probable que el número de clusters determinados sea distinto a la cantidad de tipos originales. Para este ejercicio solamente utilizaremos un modelo:\r\n",
        "\r\n",
        "* **K-Means:** Es uno de los modelos de clusterización más populares, en el cual se determinan \"centroides\" que representan cada uno de los clusters definidos. La definición de estos centroides se da al tratar de minimizar la distancia de los registros al interior de los clusters."
      ]
    },
    {
      "cell_type": "markdown",
      "metadata": {
        "nteract": {
          "transient": {
            "deleting": false
          }
        }
      },
      "source": [
        "#### Determinación de centroides óptimos"
      ]
    },
    {
      "cell_type": "code",
      "execution_count": 45,
      "outputs": [],
      "metadata": {
        "jupyter": {
          "source_hidden": false,
          "outputs_hidden": false
        },
        "nteract": {
          "transient": {
            "deleting": false
          }
        },
        "collapsed": true
      },
      "source": [
        "# Creamos matriz para almacenar los datos de las distancias por cada centroide\r\n",
        "suma_distancias = []\r\n",
        "# Establecemos un rango de centroides\r\n",
        "K = range(1, 25)\r\n",
        "# Ejecutamos ciclo for para \r\n",
        "for i in K:\r\n",
        "    kmeans_model = KMeans(n_clusters = i, random_state = 0).fit(X_train_est)\r\n",
        "    suma_distancias.append(kmeans_model.inertia_) #.inertia_ calcula la suma de las distancias al cuadrado de todos los puntos vs el centroides más cercano"
      ]
    },
    {
      "cell_type": "code",
      "execution_count": 46,
      "outputs": [],
      "metadata": {
        "jupyter": {
          "source_hidden": false,
          "outputs_hidden": false
        },
        "nteract": {
          "transient": {
            "deleting": false
          }
        },
        "collapsed": true
      },
      "source": [
        "# Graficamos \r\n",
        "plt.plot(K, suma_distancias, 'bx-')\r\n",
        "plt.xlabel('k')\r\n",
        "plt.ylabel('Suma de distancias al cuadrado')\r\n",
        "plt.title('Método Elbow - K óptimo')\r\n",
        "plt.show()"
      ]
    },
    {
      "cell_type": "markdown",
      "metadata": {
        "nteract": {
          "transient": {
            "deleting": false
          }
        }
      },
      "source": [
        "De acuerdo al gráfico anterior, se podría decir que el número óptimo de clusters es **14**. A partir de este cluster la disminución en la distancia tiende a ser menor, con lo que se nota que se empieza a volver más horizontal (punto del codo)."
      ]
    },
    {
      "cell_type": "markdown",
      "metadata": {
        "nteract": {
          "transient": {
            "deleting": false
          }
        }
      },
      "source": [
        "#### Construimos el modelo con los centroides definidos"
      ]
    },
    {
      "cell_type": "code",
      "execution_count": 47,
      "outputs": [],
      "metadata": {
        "jupyter": {
          "source_hidden": false,
          "outputs_hidden": false
        },
        "nteract": {
          "transient": {
            "deleting": false
          }
        },
        "collapsed": true
      },
      "source": [
        "# Entrenamos el modelo kmeans con los 14 centroides definidos\r\n",
        "kmeans = KMeans(n_clusters = 14, random_state = 0).fit(X_train_est)"
      ]
    },
    {
      "cell_type": "markdown",
      "metadata": {
        "nteract": {
          "transient": {
            "deleting": false
          }
        }
      },
      "source": [
        "#### Revisamos las características de los clusters"
      ]
    },
    {
      "cell_type": "code",
      "execution_count": 48,
      "outputs": [],
      "metadata": {
        "jupyter": {
          "source_hidden": false,
          "outputs_hidden": false
        },
        "nteract": {
          "transient": {
            "deleting": false
          }
        },
        "collapsed": true
      },
      "source": [
        "# Revisamos las características de los centroides definidos en el modelo\r\n",
        "caracteristicas_clusters = pd.DataFrame(estandarizacion.inverse_transform(kmeans.cluster_centers_).round(2), columns = X.columns.values)\r\n",
        "caracteristicas_clusters"
      ]
    },
    {
      "cell_type": "markdown",
      "metadata": {
        "nteract": {
          "transient": {
            "deleting": false
          }
        }
      },
      "source": [
        "En este punto corresponde hacer un análisi descriptivo con las características asociadas a cada uno de los clusters hallados. Dado que son muchos clusters haremos el análisis únicamente con dos clusters:\r\n",
        "\r\n",
        "* El **cluster 9** se caracteriza por abarcar a los pokemon de mayor peso, mayor estatura y ser el segundo con mejores puntos de defensa. En cuanto a su resistencia frente a los otros tipos se tiene que su mayor debilidad es frente a los tipos hielo, mientras que contra los tipo fuego son más resistentes. Sin embargo no son diferencias muy marcadas. Se podría clasificar a este grupo como los \"más grandes\"\r\n",
        "* El **cluster 3** se caracteriza porque es donde se ecuentran los pokemones con debilidad frente a un mayor número de tipologías. En efecto, los pokemones pertenecientes a este cluster suelen ser más débiles contra 5 tipos de pokemon (insecto, fuego, volador, hielo y veneno). Se podría clasificar a este grupo como los \"más débiles\"."
      ]
    },
    {
      "cell_type": "code",
      "execution_count": 49,
      "outputs": [],
      "metadata": {
        "jupyter": {
          "source_hidden": false,
          "outputs_hidden": false
        },
        "nteract": {
          "transient": {
            "deleting": false
          }
        },
        "collapsed": true
      },
      "source": [
        "# Revisamos la cantidad de registros por cluster\r\n",
        "Counter(kmeans.labels_)"
      ]
    },
    {
      "cell_type": "markdown",
      "metadata": {
        "nteract": {
          "transient": {
            "deleting": false
          }
        }
      },
      "source": [
        "#### Pronosticamos sobre la base de testeo"
      ]
    },
    {
      "cell_type": "code",
      "execution_count": 50,
      "outputs": [],
      "metadata": {
        "jupyter": {
          "source_hidden": false,
          "outputs_hidden": false
        },
        "nteract": {
          "transient": {
            "deleting": false
          }
        },
        "collapsed": true
      },
      "source": [
        "kmeans.predict(X_test_est)"
      ]
    },
    {
      "cell_type": "markdown",
      "metadata": {
        "nteract": {
          "transient": {
            "deleting": false
          }
        }
      },
      "source": [
        "#### Notas\r\n",
        "\r\n",
        "A diferencia del modelo de aprendizaje supervisado, en este caso no contamos con una métrica que nos ayude a definir qué tan bien quedó nuestra clusterización. La determinación de si este es un buen modelo surge del análisis descriptivo de los clusters. En efecto, al revisar los segmentos hallados debemos plantearnos si estos hacen sentido en el contexto que estemos analizando. "
      ]
    }
  ]
}